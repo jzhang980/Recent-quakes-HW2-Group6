{
 "metadata": {
  "name": "Recent-Earthquakes-Group6"
 },
 "nbformat": 3,
 "nbformat_minor": 0,
 "worksheets": [
  {
   "cells": [
    {
     "cell_type": "heading",
     "level": 1,
     "metadata": {},
     "source": "Recent Earthquakes: Group 6"
    },
    {
     "cell_type": "heading",
     "level": 2,
     "metadata": {},
     "source": "Division of work:"
    },
    {
     "cell_type": "markdown",
     "metadata": {},
     "source": "Zhang: data curation  \nKuanwei Tseng: data visualization  \nAlice Man: analysis  \nJinsoo Lee: analysis"
    },
    {
     "cell_type": "heading",
     "level": 2,
     "metadata": {},
     "source": "This data curation based on Group7"
    },
    {
     "cell_type": "markdown",
     "metadata": {},
     "source": "**This section is for user configuration:**  \n**Please check they are correct before running the code**"
    },
    {
     "cell_type": "code",
     "collapsed": false,
     "input": "# Decide whether to use live data or read from file. Modify 2nd and 3rd cell accordingly.\nLIVE_DATA = True",
     "language": "python",
     "metadata": {},
     "outputs": [],
     "prompt_number": 3
    },
    {
     "cell_type": "code",
     "collapsed": false,
     "input": "# fill in the fields below only if you are going to use live-data\nCACHE_NAME = 'default.json' # the file name you want to cache the data to. The name is suggested to have \".json\" at the end\nDURATION = 'D' # type 'H', 'D', 'W', or 'M' for feeds in past hour, day, week, or month\nMAGNITUDE = 1 # type 1, 2, 3, 4, or 5 for earthquakes that are significant, 4.5+, 2.5+, 1.0+, or all",
     "language": "python",
     "metadata": {},
     "outputs": [],
     "prompt_number": 4
    },
    {
     "cell_type": "code",
     "collapsed": false,
     "input": "# fill in the field below only if you are going to read data from file.\nFILE_NAME = 'default.json' # the full name of the file you want to read from. It has to be in the same directory as the code.",
     "language": "python",
     "metadata": {},
     "outputs": [],
     "prompt_number": 5
    },
    {
     "cell_type": "heading",
     "level": 2,
     "metadata": {},
     "source": "Part 1: Data Curation: Produce the data frame for visualization"
    },
    {
     "cell_type": "markdown",
     "metadata": {},
     "source": "Import modules:"
    },
    {
     "cell_type": "code",
     "collapsed": false,
     "input": "import IPython.core.display\nimport urllib\nfrom pandas import read_csv\nimport csv\nimport json\nimport time\nimport re",
     "language": "python",
     "metadata": {},
     "outputs": [],
     "prompt_number": 6
    },
    {
     "cell_type": "markdown",
     "metadata": {},
     "source": "Set all the global variabes:"
    },
    {
     "cell_type": "code",
     "collapsed": false,
     "input": "data_json = None # the original file from url\ndata_csv = None # a intermediate file\ndata_cleaned = None # the final file for visualization\n# some keys in Json we are going to use\nFEATURE = 'features'\nPROP = 'properties'\nGEO = 'geometry'\nCOORD = 'coordinates'\nPLACE = 'place'\n# all the fields we are interested in\nSRC = 'net'\nID = 'code'\nTIME = 'time'\nLON = 'longitude'\nLAT = 'latitude'\nDEP = 'depth'\nMAG = 'mag'\nNST = 'nst'\nREGION = 'region'\nDISTANCE = 'distance'\nDIRECTION = 'direction'\n# all urls\n# 'H', 'D', 'W', or 'M' for feeds in past hour, day, week, or month\n# 1, 2, 3, 4, or 5 for earthquakes that are significant, 4.5+, 2.5+, 1.0+, or all\nURLs = {'H':{5: 'http://earthquake.usgs.gov/earthquakes/feed/v1.0/summary/significant_hour.geojson',\n             4 : 'http://earthquake.usgs.gov/earthquakes/feed/v1.0/summary/4.5_hour.geojson',\n             3: 'http://earthquake.usgs.gov/earthquakes/feed/v1.0/summary/2.5_hour.geojson',\n             2: 'http://earthquake.usgs.gov/earthquakes/feed/v1.0/summary/1.0_hour.geojson',\n             1: 'http://earthquake.usgs.gov/earthquakes/feed/v1.0/summary/all_hour.geojson'},\n        'D':{5: 'http://earthquake.usgs.gov/earthquakes/feed/v1.0/summary/significant_day.geojson',\n             4: 'http://earthquake.usgs.gov/earthquakes/feed/v1.0/summary/4.5_day.geojson',\n             3: 'http://earthquake.usgs.gov/earthquakes/feed/v1.0/summary/2.5_day.geojson',\n             2: 'http://earthquake.usgs.gov/earthquakes/feed/v1.0/summary/1.0_day.geojson',\n             1: 'http://earthquake.usgs.gov/earthquakes/feed/v1.0/summary/all_day.geojson'},\n        'W':{5: 'http://earthquake.usgs.gov/earthquakes/feed/v1.0/summary/significant_week.geojson',\n             4: 'http://earthquake.usgs.gov/earthquakes/feed/v1.0/summary/4.5_week.geojson',\n             3: 'http://earthquake.usgs.gov/earthquakes/feed/v1.0/summary/2.5_week.geojson',\n             2: 'http://earthquake.usgs.gov/earthquakes/feed/v1.0/summary/1.0_week.geojson',\n             1: 'http://earthquake.usgs.gov/earthquakes/feed/v1.0/summary/all_week.geojson'},\n        'M':{5: 'http://earthquake.usgs.gov/earthquakes/feed/v1.0/summary/significant_month.geojson',\n             4: 'http://earthquake.usgs.gov/earthquakes/feed/v1.0/summary/4.5_month.geojson',\n             3: 'http://earthquake.usgs.gov/earthquakes/feed/v1.0/summary/2.5_month.geojson',\n             2: 'http://earthquake.usgs.gov/earthquakes/feed/v1.0/summary/1.0_month.geojson',\n             1: 'http://earthquake.usgs.gov/earthquakes/feed/v1.0/summary/all_month.geojson'}\n        }\n",
     "language": "python",
     "metadata": {},
     "outputs": [],
     "prompt_number": 7
    },
    {
     "cell_type": "markdown",
     "metadata": {},
     "source": "Function for getting live data and cache it:"
    },
    {
     "cell_type": "code",
     "collapsed": false,
     "input": "def getLiveData():\n    url = URLs[DURATION][MAGNITUDE] # the url depending on user input\n    global data_json\n    data_json = json.loads(urllib.urlopen(url).read()) # read in json\n    with open(CACHE_NAME, 'w') as outfile:\n      json.dump(data_json, outfile) # cache the data depending on user input",
     "language": "python",
     "metadata": {},
     "outputs": [],
     "prompt_number": 8
    },
    {
     "cell_type": "markdown",
     "metadata": {},
     "source": "Function for getting data from file:"
    },
    {
     "cell_type": "code",
     "collapsed": false,
     "input": "def readFromFile():\n    global data_json\n    data_json = json.loads(open(FILE_NAME, 'r').read()) # read in the cache depending on user input",
     "language": "python",
     "metadata": {},
     "outputs": [],
     "prompt_number": 9
    },
    {
     "cell_type": "markdown",
     "metadata": {},
     "source": "Function for parsing the time in Json to desired format:"
    },
    {
     "cell_type": "code",
     "collapsed": false,
     "input": "def parseTime(timeSinceEpoch):\n    dayTime = time.strftime('%A, %B %d, %Y %H:%M:%S UTC', time.gmtime(timeSinceEpoch/1000)) \n    # to [weekday, month day, year hour:minute:second timeZone]\n    return dayTime",
     "language": "python",
     "metadata": {},
     "outputs": [],
     "prompt_number": 10
    },
    {
     "cell_type": "markdown",
     "metadata": {},
     "source": "Function for parsing place to desired format:"
    },
    {
     "cell_type": "code",
     "collapsed": false,
     "input": "def parsePlace(place):\n    match = re.match('(.+km) ([NEWS]+) of (.*)', place) # to (distance, direcion, region)\n    if match:\n        return (match.group(1), match.group(2), match.group(3))\n    else:\n        return ('NA', 'NA', place) # put everything to region if it is not of the desired format",
     "language": "python",
     "metadata": {},
     "outputs": [],
     "prompt_number": 11
    },
    {
     "cell_type": "markdown",
     "metadata": {},
     "source": "Function for parsing the Json file to [{Key:Value....},{Key:Value...},...]:  "
    },
    {
     "cell_type": "code",
     "collapsed": false,
     "input": "def parseData():\n    global data_csv\n    data_csv = [] # representing a row\n    for feature in data_json[FEATURE]: # add the fields to row\n        dataRow = {}\n        prop = feature[PROP]\n        dataRow[MAG] = prop[MAG]\n        placeInfo = parsePlace(prop[PLACE])\n        dataRow[DISTANCE] = placeInfo[0]\n        dataRow[DIRECTION] = placeInfo[1]\n        dataRow[REGION] = placeInfo[2]\n        dataRow[TIME] = parseTime(prop[TIME])\n        dataRow[SRC] = prop[SRC]\n        dataRow[ID] = prop[ID]\n        dataRow[NST] = prop[NST]\n        coord = feature[GEO][COORD]\n        dataRow[LON] = coord[0]\n        dataRow[LAT] = coord[1]\n        dataRow[DEP] = coord[2]\n        data_csv.append(dataRow) # add the row to list",
     "language": "python",
     "metadata": {},
     "outputs": [],
     "prompt_number": 12
    },
    {
     "cell_type": "markdown",
     "metadata": {},
     "source": "Function to produce the Pandas data frame:"
    },
    {
     "cell_type": "code",
     "collapsed": false,
     "input": "def getCleanedData(): # kind of a hack. convert it to csv first, then to pandas data frame using read_csv\n    names = [SRC, ID, TIME, LAT, LON, MAG, DEP, NST, REGION, DISTANCE, DIRECTION]\n    f = open('tem.csv', 'w')\n    dict_writer = csv.DictWriter(f, names, restval='NA')\n    dict_writer.writeheader()\n    dict_writer.writerows(data_csv)\n    f.close()\n    global data_cleaned\n    data_cleaned = read_csv('tem.csv')",
     "language": "python",
     "metadata": {},
     "outputs": [],
     "prompt_number": 13
    },
    {
     "cell_type": "heading",
     "level": 3,
     "metadata": {},
     "source": "The 'main' function:"
    },
    {
     "cell_type": "code",
     "collapsed": false,
     "input": "if LIVE_DATA: # access live data and save locally\n    getLiveData()\nelse: # read from file\n    readFromFile()\nparseData()\ngetCleanedData()",
     "language": "python",
     "metadata": {},
     "outputs": [],
     "prompt_number": 14
    },
    {
     "cell_type": "heading",
     "level": 3,
     "metadata": {},
     "source": "What the data frame look like:"
    },
    {
     "cell_type": "code",
     "collapsed": false,
     "input": "data_cleaned[0:10]",
     "language": "python",
     "metadata": {},
     "outputs": [
      {
       "html": "<div style=\"max-height:1000px;max-width:1500px;overflow:auto;\">\n<table border=\"1\" class=\"dataframe\">\n  <thead>\n    <tr style=\"text-align: right;\">\n      <th></th>\n      <th>net</th>\n      <th>code</th>\n      <th>time</th>\n      <th>latitude</th>\n      <th>longitude</th>\n      <th>mag</th>\n      <th>depth</th>\n      <th>nst</th>\n      <th>region</th>\n      <th>distance</th>\n      <th>direction</th>\n    </tr>\n  </thead>\n  <tbody>\n    <tr>\n      <th>0</th>\n      <td> nc</td>\n      <td> 72091806</td>\n      <td> Monday, October 21, 2013 04:15:38 UTC</td>\n      <td> 37.3668</td>\n      <td>-118.5833</td>\n      <td> 1.20</td>\n      <td> 11.5000</td>\n      <td>NaN</td>\n      <td>                West Bishop, California</td>\n      <td>  11km</td>\n      <td>   W</td>\n    </tr>\n    <tr>\n      <th>1</th>\n      <td> ci</td>\n      <td> 11381474</td>\n      <td> Monday, October 21, 2013 04:13:20 UTC</td>\n      <td> 33.6622</td>\n      <td>-116.7203</td>\n      <td> 1.20</td>\n      <td> 15.8000</td>\n      <td> 18</td>\n      <td>                  Idyllwild, California</td>\n      <td>   8km</td>\n      <td>   S</td>\n    </tr>\n    <tr>\n      <th>2</th>\n      <td> ci</td>\n      <td> 11381466</td>\n      <td> Monday, October 21, 2013 04:11:16 UTC</td>\n      <td> 33.9650</td>\n      <td>-116.3685</td>\n      <td> 2.00</td>\n      <td>  8.7000</td>\n      <td> 58</td>\n      <td>                Desert Edge, California</td>\n      <td>   8km</td>\n      <td>  NE</td>\n    </tr>\n    <tr>\n      <th>3</th>\n      <td> us</td>\n      <td> b000khrn</td>\n      <td> Monday, October 21, 2013 04:09:52 UTC</td>\n      <td>  1.4794</td>\n      <td> 126.2825</td>\n      <td> 4.70</td>\n      <td> 44.2400</td>\n      <td>NaN</td>\n      <td>                      Bitung, Indonesia</td>\n      <td> 122km</td>\n      <td>   E</td>\n    </tr>\n    <tr>\n      <th>4</th>\n      <td> pr</td>\n      <td> 13294000</td>\n      <td> Monday, October 21, 2013 04:05:42 UTC</td>\n      <td> 19.1245</td>\n      <td> -66.4803</td>\n      <td> 3.00</td>\n      <td> 11.0000</td>\n      <td> 12</td>\n      <td>   Tierras Nuevas Poniente, Puerto Rico</td>\n      <td>  73km</td>\n      <td>   N</td>\n    </tr>\n    <tr>\n      <th>5</th>\n      <td> us</td>\n      <td> b000khrf</td>\n      <td> Monday, October 21, 2013 04:01:57 UTC</td>\n      <td>-22.8825</td>\n      <td>-174.8889</td>\n      <td> 5.40</td>\n      <td> 24.3500</td>\n      <td>NaN</td>\n      <td>                         `Ohonua, Tonga</td>\n      <td> 171km</td>\n      <td>   S</td>\n    </tr>\n    <tr>\n      <th>6</th>\n      <td> us</td>\n      <td> b000khrb</td>\n      <td> Monday, October 21, 2013 03:33:35 UTC</td>\n      <td> 42.2852</td>\n      <td> 142.9612</td>\n      <td> 4.60</td>\n      <td> 62.0200</td>\n      <td>NaN</td>\n      <td>                        Shizunai, Japan</td>\n      <td>  49km</td>\n      <td>   E</td>\n    </tr>\n    <tr>\n      <th>7</th>\n      <td> us</td>\n      <td> b000khr7</td>\n      <td> Monday, October 21, 2013 03:08:57 UTC</td>\n      <td>  3.2342</td>\n      <td>  90.6762</td>\n      <td> 4.50</td>\n      <td> 14.5500</td>\n      <td>NaN</td>\n      <td> Off the west coast of northern Sumatra</td>\n      <td>   NaN</td>\n      <td> NaN</td>\n    </tr>\n    <tr>\n      <th>8</th>\n      <td> nn</td>\n      <td> 00426861</td>\n      <td> Monday, October 21, 2013 03:02:50 UTC</td>\n      <td> 35.9196</td>\n      <td>-114.9592</td>\n      <td> 1.16</td>\n      <td> 13.3735</td>\n      <td>  9</td>\n      <td>                      Henderson, Nevada</td>\n      <td>  13km</td>\n      <td>   S</td>\n    </tr>\n    <tr>\n      <th>9</th>\n      <td> nc</td>\n      <td> 72091791</td>\n      <td> Monday, October 21, 2013 03:02:23 UTC</td>\n      <td> 38.7917</td>\n      <td>-122.7570</td>\n      <td> 2.10</td>\n      <td>  1.6000</td>\n      <td>NaN</td>\n      <td>                The Geysers, California</td>\n      <td>   1km</td>\n      <td>   N</td>\n    </tr>\n  </tbody>\n</table>\n</div>",
       "output_type": "pyout",
       "prompt_number": 15,
       "text": "  net      code                                   time  latitude  longitude   mag  \\\n0  nc  72091806  Monday, October 21, 2013 04:15:38 UTC   37.3668  -118.5833  1.20   \n1  ci  11381474  Monday, October 21, 2013 04:13:20 UTC   33.6622  -116.7203  1.20   \n2  ci  11381466  Monday, October 21, 2013 04:11:16 UTC   33.9650  -116.3685  2.00   \n3  us  b000khrn  Monday, October 21, 2013 04:09:52 UTC    1.4794   126.2825  4.70   \n4  pr  13294000  Monday, October 21, 2013 04:05:42 UTC   19.1245   -66.4803  3.00   \n5  us  b000khrf  Monday, October 21, 2013 04:01:57 UTC  -22.8825  -174.8889  5.40   \n6  us  b000khrb  Monday, October 21, 2013 03:33:35 UTC   42.2852   142.9612  4.60   \n7  us  b000khr7  Monday, October 21, 2013 03:08:57 UTC    3.2342    90.6762  4.50   \n8  nn  00426861  Monday, October 21, 2013 03:02:50 UTC   35.9196  -114.9592  1.16   \n9  nc  72091791  Monday, October 21, 2013 03:02:23 UTC   38.7917  -122.7570  2.10   \n\n     depth  nst                                  region distance direction  \n0  11.5000  NaN                 West Bishop, California     11km         W  \n1  15.8000   18                   Idyllwild, California      8km         S  \n2   8.7000   58                 Desert Edge, California      8km        NE  \n3  44.2400  NaN                       Bitung, Indonesia    122km         E  \n4  11.0000   12    Tierras Nuevas Poniente, Puerto Rico     73km         N  \n5  24.3500  NaN                          `Ohonua, Tonga    171km         S  \n6  62.0200  NaN                         Shizunai, Japan     49km         E  \n7  14.5500  NaN  Off the west coast of northern Sumatra      NaN       NaN  \n8  13.3735    9                       Henderson, Nevada     13km         S  \n9   1.6000  NaN                 The Geysers, California      1km         N  "
      }
     ],
     "prompt_number": 15
    },
    {
     "cell_type": "heading",
     "level": 3,
     "metadata": {},
     "source": "Example for doing subset:"
    },
    {
     "cell_type": "code",
     "collapsed": false,
     "input": "data_cleaned[data_cleaned[REGION] == 'The Geysers, California']",
     "language": "python",
     "metadata": {},
     "outputs": [
      {
       "html": "<div style=\"max-height:1000px;max-width:1500px;overflow:auto;\">\n<table border=\"1\" class=\"dataframe\">\n  <thead>\n    <tr style=\"text-align: right;\">\n      <th></th>\n      <th>net</th>\n      <th>code</th>\n      <th>time</th>\n      <th>latitude</th>\n      <th>longitude</th>\n      <th>mag</th>\n      <th>depth</th>\n      <th>nst</th>\n      <th>region</th>\n      <th>distance</th>\n      <th>direction</th>\n    </tr>\n  </thead>\n  <tbody>\n    <tr>\n      <th>8  </th>\n      <td> nc</td>\n      <td> 72092516</td>\n      <td> Monday, October 21, 2013 22:15:14 UTC</td>\n      <td> 38.7897</td>\n      <td>-122.7637</td>\n      <td> 1.3</td>\n      <td> 2.4</td>\n      <td>NaN</td>\n      <td> The Geysers, California</td>\n      <td> 1km</td>\n      <td> NNW</td>\n    </tr>\n    <tr>\n      <th>14 </th>\n      <td> nc</td>\n      <td> 72092466</td>\n      <td> Monday, October 21, 2013 21:25:30 UTC</td>\n      <td> 38.7703</td>\n      <td>-122.7467</td>\n      <td> 0.6</td>\n      <td> 2.3</td>\n      <td>NaN</td>\n      <td> The Geysers, California</td>\n      <td> 1km</td>\n      <td>  SE</td>\n    </tr>\n    <tr>\n      <th>21 </th>\n      <td> nc</td>\n      <td> 72092426</td>\n      <td> Monday, October 21, 2013 20:41:40 UTC</td>\n      <td> 38.7590</td>\n      <td>-122.7267</td>\n      <td> 0.8</td>\n      <td> 2.5</td>\n      <td>NaN</td>\n      <td> The Geysers, California</td>\n      <td> 3km</td>\n      <td>  SE</td>\n    </tr>\n    <tr>\n      <th>48 </th>\n      <td> nc</td>\n      <td> 72092171</td>\n      <td> Monday, October 21, 2013 16:13:14 UTC</td>\n      <td> 38.7727</td>\n      <td>-122.7242</td>\n      <td> 0.7</td>\n      <td> 2.7</td>\n      <td>NaN</td>\n      <td> The Geysers, California</td>\n      <td> 2km</td>\n      <td>   E</td>\n    </tr>\n    <tr>\n      <th>66 </th>\n      <td> nc</td>\n      <td> 72092136</td>\n      <td> Monday, October 21, 2013 13:50:55 UTC</td>\n      <td> 38.7913</td>\n      <td>-122.7635</td>\n      <td> 0.9</td>\n      <td> 2.7</td>\n      <td>NaN</td>\n      <td> The Geysers, California</td>\n      <td> 1km</td>\n      <td> NNW</td>\n    </tr>\n    <tr>\n      <th>69 </th>\n      <td> nc</td>\n      <td> 72092116</td>\n      <td> Monday, October 21, 2013 13:24:02 UTC</td>\n      <td> 38.8252</td>\n      <td>-122.8047</td>\n      <td> 0.9</td>\n      <td> 3.1</td>\n      <td>NaN</td>\n      <td> The Geysers, California</td>\n      <td> 6km</td>\n      <td>  NW</td>\n    </tr>\n    <tr>\n      <th>73 </th>\n      <td> nc</td>\n      <td> 72092111</td>\n      <td> Monday, October 21, 2013 13:02:15 UTC</td>\n      <td> 38.8230</td>\n      <td>-122.8063</td>\n      <td> 1.2</td>\n      <td> 3.3</td>\n      <td>NaN</td>\n      <td> The Geysers, California</td>\n      <td> 6km</td>\n      <td>  NW</td>\n    </tr>\n    <tr>\n      <th>80 </th>\n      <td> nc</td>\n      <td> 72092101</td>\n      <td> Monday, October 21, 2013 12:37:10 UTC</td>\n      <td> 38.8155</td>\n      <td>-122.7972</td>\n      <td> 0.8</td>\n      <td> 1.6</td>\n      <td>NaN</td>\n      <td> The Geysers, California</td>\n      <td> 5km</td>\n      <td>  NW</td>\n    </tr>\n    <tr>\n      <th>95 </th>\n      <td> nc</td>\n      <td> 72092086</td>\n      <td> Monday, October 21, 2013 11:17:59 UTC</td>\n      <td> 38.8092</td>\n      <td>-122.7920</td>\n      <td> 1.0</td>\n      <td> 1.2</td>\n      <td>NaN</td>\n      <td> The Geysers, California</td>\n      <td> 4km</td>\n      <td>  NW</td>\n    </tr>\n    <tr>\n      <th>112</th>\n      <td> nc</td>\n      <td> 72092051</td>\n      <td> Monday, October 21, 2013 09:39:32 UTC</td>\n      <td> 38.8085</td>\n      <td>-122.8130</td>\n      <td> 1.4</td>\n      <td> 2.3</td>\n      <td>NaN</td>\n      <td> The Geysers, California</td>\n      <td> 6km</td>\n      <td>  NW</td>\n    </tr>\n    <tr>\n      <th>118</th>\n      <td> nc</td>\n      <td> 72092021</td>\n      <td> Monday, October 21, 2013 08:57:56 UTC</td>\n      <td> 38.8182</td>\n      <td>-122.7977</td>\n      <td> 0.9</td>\n      <td> 2.8</td>\n      <td>NaN</td>\n      <td> The Geysers, California</td>\n      <td> 5km</td>\n      <td>  NW</td>\n    </tr>\n    <tr>\n      <th>136</th>\n      <td> nc</td>\n      <td> 72091941</td>\n      <td> Monday, October 21, 2013 06:25:02 UTC</td>\n      <td> 38.8117</td>\n      <td>-122.8257</td>\n      <td> 0.4</td>\n      <td> 4.2</td>\n      <td>NaN</td>\n      <td> The Geysers, California</td>\n      <td> 7km</td>\n      <td> WNW</td>\n    </tr>\n    <tr>\n      <th>147</th>\n      <td> nc</td>\n      <td> 72091881</td>\n      <td> Monday, October 21, 2013 05:20:55 UTC</td>\n      <td> 38.8313</td>\n      <td>-122.8267</td>\n      <td> 0.6</td>\n      <td> 1.9</td>\n      <td>NaN</td>\n      <td> The Geysers, California</td>\n      <td> 8km</td>\n      <td>  NW</td>\n    </tr>\n    <tr>\n      <th>168</th>\n      <td> nc</td>\n      <td> 72091791</td>\n      <td> Monday, October 21, 2013 03:02:23 UTC</td>\n      <td> 38.7917</td>\n      <td>-122.7570</td>\n      <td> 2.1</td>\n      <td> 1.6</td>\n      <td>NaN</td>\n      <td> The Geysers, California</td>\n      <td> 1km</td>\n      <td>   N</td>\n    </tr>\n    <tr>\n      <th>173</th>\n      <td> nc</td>\n      <td> 72091786</td>\n      <td> Monday, October 21, 2013 02:40:52 UTC</td>\n      <td> 38.8097</td>\n      <td>-122.7867</td>\n      <td> 0.3</td>\n      <td> 2.6</td>\n      <td>NaN</td>\n      <td> The Geysers, California</td>\n      <td> 4km</td>\n      <td>  NW</td>\n    </tr>\n    <tr>\n      <th>182</th>\n      <td> nc</td>\n      <td> 72091771</td>\n      <td> Monday, October 21, 2013 01:23:12 UTC</td>\n      <td> 38.7640</td>\n      <td>-122.8438</td>\n      <td> 1.1</td>\n      <td> 4.5</td>\n      <td>NaN</td>\n      <td> The Geysers, California</td>\n      <td> 7km</td>\n      <td>   W</td>\n    </tr>\n  </tbody>\n</table>\n</div>",
       "output_type": "pyout",
       "prompt_number": 33,
       "text": "    net      code                                   time  latitude  longitude  mag  \\\n8    nc  72092516  Monday, October 21, 2013 22:15:14 UTC   38.7897  -122.7637  1.3   \n14   nc  72092466  Monday, October 21, 2013 21:25:30 UTC   38.7703  -122.7467  0.6   \n21   nc  72092426  Monday, October 21, 2013 20:41:40 UTC   38.7590  -122.7267  0.8   \n48   nc  72092171  Monday, October 21, 2013 16:13:14 UTC   38.7727  -122.7242  0.7   \n66   nc  72092136  Monday, October 21, 2013 13:50:55 UTC   38.7913  -122.7635  0.9   \n69   nc  72092116  Monday, October 21, 2013 13:24:02 UTC   38.8252  -122.8047  0.9   \n73   nc  72092111  Monday, October 21, 2013 13:02:15 UTC   38.8230  -122.8063  1.2   \n80   nc  72092101  Monday, October 21, 2013 12:37:10 UTC   38.8155  -122.7972  0.8   \n95   nc  72092086  Monday, October 21, 2013 11:17:59 UTC   38.8092  -122.7920  1.0   \n112  nc  72092051  Monday, October 21, 2013 09:39:32 UTC   38.8085  -122.8130  1.4   \n118  nc  72092021  Monday, October 21, 2013 08:57:56 UTC   38.8182  -122.7977  0.9   \n136  nc  72091941  Monday, October 21, 2013 06:25:02 UTC   38.8117  -122.8257  0.4   \n147  nc  72091881  Monday, October 21, 2013 05:20:55 UTC   38.8313  -122.8267  0.6   \n168  nc  72091791  Monday, October 21, 2013 03:02:23 UTC   38.7917  -122.7570  2.1   \n173  nc  72091786  Monday, October 21, 2013 02:40:52 UTC   38.8097  -122.7867  0.3   \n182  nc  72091771  Monday, October 21, 2013 01:23:12 UTC   38.7640  -122.8438  1.1   \n\n     depth  nst                   region distance direction  \n8      2.4  NaN  The Geysers, California      1km       NNW  \n14     2.3  NaN  The Geysers, California      1km        SE  \n21     2.5  NaN  The Geysers, California      3km        SE  \n48     2.7  NaN  The Geysers, California      2km         E  \n66     2.7  NaN  The Geysers, California      1km       NNW  \n69     3.1  NaN  The Geysers, California      6km        NW  \n73     3.3  NaN  The Geysers, California      6km        NW  \n80     1.6  NaN  The Geysers, California      5km        NW  \n95     1.2  NaN  The Geysers, California      4km        NW  \n112    2.3  NaN  The Geysers, California      6km        NW  \n118    2.8  NaN  The Geysers, California      5km        NW  \n136    4.2  NaN  The Geysers, California      7km       WNW  \n147    1.9  NaN  The Geysers, California      8km        NW  \n168    1.6  NaN  The Geysers, California      1km         N  \n173    2.6  NaN  The Geysers, California      4km        NW  \n182    4.5  NaN  The Geysers, California      7km         W  "
      }
     ],
     "prompt_number": 33
    },
    {
     "cell_type": "heading",
     "level": 2,
     "metadata": {},
     "source": "Part 2: Data Visualization\n"
    },
    {
     "cell_type": "code",
     "collapsed": false,
     "input": "\n\n\nfrom mpl_toolkits.basemap import Basemap\n\n\ndef bbox(q):\n    #calculate quake bounding box\n    Latmin = min(q.Lat)\n    Latmax = max(q.Lat)\n    Latmid = average(q.Lat)\n    Lonmin = min(q.Lon)\n    Lonmax = max(q.Lon)\n    Lonmid = average(q.Lon)\n    # create appropriate boundary, reject weird outliers\n    if Lonmid+4*sqrt(var(q.Lon))< Lonmax or Lonmid-4*sqrt(var(q.Lon))> Lonmin:\n        Height = 2*sqrt(var(q.Lon))\n    elif 1>0:\n        Height = max((Lonmax-Lonmid+1),(Lonmid-Lonmin+1))\n    if Latmid+4*sqrt(var(q.Lat))< Latmax or Latmid-4*sqrt(var(q.Lat))> Latmin:\n        Width =2*sqrt(var(q.Lat))\n        b = [Latmid-Width,Latmid+Width, Lonmid-Height, Lonmid+Height]\n    elif 1>0:\n        Width = max((Latmax-Latmid+1),(Latmid-Latmin+1))\n        b = [Latmid-Width,Latmid+Width, Lonmid-Height, Lonmid+Height]\n    return b\ndef plot_quakes(quakes):\n    boundary = bbox(quakes)\n    m = Basemap(llcrnrlon=boundary[2],llcrnrlat=boundary[0],\n                urcrnrlon=boundary[3],urcrnrlat=boundary[1],\n                resolution='l',area_thresh=1000.,projection='merc')\n    m.drawcoastlines()\n    m.drawcountries()\n    m.fillcontinents(color='coral',lake_color='blue',zorder=0)\n    m.drawmapboundary(fill_color='aqua')\n    x, y = m(quakes.Lon, quakes.Lat)\n    MagLab = 30*quakes.Magnitude\n    Dep = quakes.Depth\n    m.scatter(x, y, s=MagLab, c=Dep, marker=\"o\")\n    c = plt.colorbar(orientation='horizontal')\n    c.set_label(\"Depth\")\n    \n    plt.show()\n\n\nplot_quakes(data_cleaned[data_cleaned[REGION] == 'The Geysers, California'])\n",
     "language": "python",
     "metadata": {},
     "outputs": [
      {
       "ename": "AttributeError",
       "evalue": "'DataFrame' object has no attribute 'Lat'",
       "output_type": "pyerr",
       "traceback": [
        "\u001b[0;31m---------------------------------------------------------------------------\u001b[0m\n\u001b[0;31mAttributeError\u001b[0m                            Traceback (most recent call last)",
        "\u001b[0;32m<ipython-input-29-d8cba97c3f4f>\u001b[0m in \u001b[0;36m<module>\u001b[0;34m()\u001b[0m\n\u001b[1;32m     44\u001b[0m \u001b[0;34m\u001b[0m\u001b[0m\n\u001b[1;32m     45\u001b[0m \u001b[0;34m\u001b[0m\u001b[0m\n\u001b[0;32m---> 46\u001b[0;31m \u001b[0mplot_quakes\u001b[0m\u001b[0;34m(\u001b[0m\u001b[0mdata_cleaned\u001b[0m\u001b[0;34m[\u001b[0m\u001b[0mdata_cleaned\u001b[0m\u001b[0;34m[\u001b[0m\u001b[0mREGION\u001b[0m\u001b[0;34m]\u001b[0m \u001b[0;34m==\u001b[0m \u001b[0;34m'The Geysers, California'\u001b[0m\u001b[0;34m]\u001b[0m\u001b[0;34m)\u001b[0m\u001b[0;34m\u001b[0m\u001b[0m\n\u001b[0m",
        "\u001b[0;32m<ipython-input-29-d8cba97c3f4f>\u001b[0m in \u001b[0;36mplot_quakes\u001b[0;34m(quakes)\u001b[0m\n\u001b[1;32m     26\u001b[0m     \u001b[0;32mreturn\u001b[0m \u001b[0mb\u001b[0m\u001b[0;34m\u001b[0m\u001b[0m\n\u001b[1;32m     27\u001b[0m \u001b[0;32mdef\u001b[0m \u001b[0mplot_quakes\u001b[0m\u001b[0;34m(\u001b[0m\u001b[0mquakes\u001b[0m\u001b[0;34m)\u001b[0m\u001b[0;34m:\u001b[0m\u001b[0;34m\u001b[0m\u001b[0m\n\u001b[0;32m---> 28\u001b[0;31m     \u001b[0mboundary\u001b[0m \u001b[0;34m=\u001b[0m \u001b[0mbbox\u001b[0m\u001b[0;34m(\u001b[0m\u001b[0mquakes\u001b[0m\u001b[0;34m)\u001b[0m\u001b[0;34m\u001b[0m\u001b[0m\n\u001b[0m\u001b[1;32m     29\u001b[0m     m = Basemap(llcrnrlon=boundary[2],llcrnrlat=boundary[0],\n\u001b[1;32m     30\u001b[0m                 \u001b[0murcrnrlon\u001b[0m\u001b[0;34m=\u001b[0m\u001b[0mboundary\u001b[0m\u001b[0;34m[\u001b[0m\u001b[0;36m3\u001b[0m\u001b[0;34m]\u001b[0m\u001b[0;34m,\u001b[0m\u001b[0murcrnrlat\u001b[0m\u001b[0;34m=\u001b[0m\u001b[0mboundary\u001b[0m\u001b[0;34m[\u001b[0m\u001b[0;36m1\u001b[0m\u001b[0;34m]\u001b[0m\u001b[0;34m,\u001b[0m\u001b[0;34m\u001b[0m\u001b[0m\n",
        "\u001b[0;32m<ipython-input-29-d8cba97c3f4f>\u001b[0m in \u001b[0;36mbbox\u001b[0;34m(q)\u001b[0m\n\u001b[1;32m      7\u001b[0m \u001b[0;32mdef\u001b[0m \u001b[0mbbox\u001b[0m\u001b[0;34m(\u001b[0m\u001b[0mq\u001b[0m\u001b[0;34m)\u001b[0m\u001b[0;34m:\u001b[0m\u001b[0;34m\u001b[0m\u001b[0m\n\u001b[1;32m      8\u001b[0m     \u001b[0;31m#calculate quake bounding box\u001b[0m\u001b[0;34m\u001b[0m\u001b[0;34m\u001b[0m\u001b[0m\n\u001b[0;32m----> 9\u001b[0;31m     \u001b[0mLatmin\u001b[0m \u001b[0;34m=\u001b[0m \u001b[0mmin\u001b[0m\u001b[0;34m(\u001b[0m\u001b[0mq\u001b[0m\u001b[0;34m.\u001b[0m\u001b[0mLat\u001b[0m\u001b[0;34m)\u001b[0m\u001b[0;34m\u001b[0m\u001b[0m\n\u001b[0m\u001b[1;32m     10\u001b[0m     \u001b[0mLatmax\u001b[0m \u001b[0;34m=\u001b[0m \u001b[0mmax\u001b[0m\u001b[0;34m(\u001b[0m\u001b[0mq\u001b[0m\u001b[0;34m.\u001b[0m\u001b[0mLat\u001b[0m\u001b[0;34m)\u001b[0m\u001b[0;34m\u001b[0m\u001b[0m\n\u001b[1;32m     11\u001b[0m     \u001b[0mLatmid\u001b[0m \u001b[0;34m=\u001b[0m \u001b[0maverage\u001b[0m\u001b[0;34m(\u001b[0m\u001b[0mq\u001b[0m\u001b[0;34m.\u001b[0m\u001b[0mLat\u001b[0m\u001b[0;34m)\u001b[0m\u001b[0;34m\u001b[0m\u001b[0m\n",
        "\u001b[0;32m/usr/lib/python2.7/dist-packages/pandas/core/frame.pyc\u001b[0m in \u001b[0;36m__getattr__\u001b[0;34m(self, name)\u001b[0m\n\u001b[1;32m   2044\u001b[0m             \u001b[0;32mreturn\u001b[0m \u001b[0mself\u001b[0m\u001b[0;34m[\u001b[0m\u001b[0mname\u001b[0m\u001b[0;34m]\u001b[0m\u001b[0;34m\u001b[0m\u001b[0m\n\u001b[1;32m   2045\u001b[0m         raise AttributeError(\"'%s' object has no attribute '%s'\" %\n\u001b[0;32m-> 2046\u001b[0;31m                              (type(self).__name__, name))\n\u001b[0m\u001b[1;32m   2047\u001b[0m \u001b[0;34m\u001b[0m\u001b[0m\n\u001b[1;32m   2048\u001b[0m     \u001b[0;32mdef\u001b[0m \u001b[0m__setattr__\u001b[0m\u001b[0;34m(\u001b[0m\u001b[0mself\u001b[0m\u001b[0;34m,\u001b[0m \u001b[0mname\u001b[0m\u001b[0;34m,\u001b[0m \u001b[0mvalue\u001b[0m\u001b[0;34m)\u001b[0m\u001b[0;34m:\u001b[0m\u001b[0;34m\u001b[0m\u001b[0m\n",
        "\u001b[0;31mAttributeError\u001b[0m: 'DataFrame' object has no attribute 'Lat'"
       ]
      }
     ],
     "prompt_number": 29
    },
    {
     "cell_type": "code",
     "collapsed": false,
     "input": "",
     "language": "python",
     "metadata": {},
     "outputs": [],
     "prompt_number": 121
    }
   ],
   "metadata": {}
  }
 ]
}
